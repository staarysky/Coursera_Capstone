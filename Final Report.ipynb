{
    "cells": [
        {
            "cell_type": "markdown",
            "metadata": {
                "collapsed": true
            },
            "source": "# Final Report - Battle of the Neighborhood - Los Angeles"
        },
        {
            "cell_type": "markdown",
            "metadata": {},
            "source": "## Introduction and Who Would be Interested\nIntroduction where you discuss the business problem and who would be interested in this project.\n"
        },
        {
            "cell_type": "markdown",
            "metadata": {},
            "source": "Los Angeles is the second largest city in the US by population and a major hub of the entertainment and finance industries. It is also one of the largest geographically spread cities and is known to have an unsual urban planning structure and not clear definitions of neighborhoods. With the city spreading and sprawling increasingly fast, how can a person moving to LA, like an aspiring actor or business person, figure out where to live in the city? What if they want to live in a area with the most movie theaters, or Mexican restaurants, how can they choose which neighborhood to go to? To answer this question, I will be segmenting, clustering, and analyzing the neighborhoods of LA and figure out which neighborhoods are present, what they are known for, and what venue locations they have the most of. \n\n<br>\nObjective: Search neighborhood based on prefernces of venue and to find similar neighborhoods. \n\n<br>\n\nUser: This data analysis can be used by people looking to move to LA permanently and tourists who are thinking of coming to LA and deciding where they will stay. These people will be able to sort the see the neighborhood based on thier preferences, such as Asian Restaurants, Parks, Movie Theatres, and so much more!"
        },
        {
            "cell_type": "markdown",
            "metadata": {},
            "source": "## Data Information\nData where you describe the data that will be used to solve the problem and the source of the data.\n"
        },
        {
            "cell_type": "markdown",
            "metadata": {},
            "source": "I will be using the geographical data of Los Angeles neighborhoods and the latitude-longitude provided by USC's Neighborhood Data for Social Change . Here, I will find the neighborhoods of LA and clean the data to be used for machine learning. Then I will collect the venue categories and names for each neighborhood from the FourSquare API. I will cluster the neighborhoods based on their top venues categories located in them. Finally, I will sort the data to see which neighborhood or cluster will be the best for a certain venue category - so let's say that a person moving to LA really wants to live near movie theaters, they can see which neighborhoods will be the best for that. Additionally, they will be able to see what other neighborhoods are similar based on others in thier cluster. "
        },
        {
            "cell_type": "markdown",
            "metadata": {},
            "source": "## Methodology \nMethodology section which represents the main component of the report where you discuss and describe any exploratory data analysis that you did, any inferential statistical testing that you performed, if any, and what machine learnings were used and why.\n"
        },
        {
            "cell_type": "markdown",
            "metadata": {},
            "source": "The main objective of this project was to allow people to search neighborhoods based on the preferences and find similar neighborhoods that they would like. The steps I took to get here were:\n\n- data wrangling \n- exploring data\n- clustering & Machine Learning \n- sorting data for user\n\n1. Data Wrangling: I knew that this project required a lot of outsourced data, and so data wrangling and cleaning was a big part of the project. I collected the neighborhood and longitude, latitude data from a USC database, and realized half way through the project (due to multiple errors suddenly arising) that the logitude and latitude coordinates had been switched. So, I went back and properly assigned the column names. Additionally, I collected venue categories and names from the Foursquare API and added that to my neighborhood dataframe.\n<br>\n\n2. Exploring Data: To explore my large merged dataset, I decided to work on just one neighborhood - Santa Monica - to see venues names and categories I had. The data looked good and well formated, so I went ahead and explored the entire dataset. I found that there were 325 unique venue categories in Los Angeles and 2999 total venues. There wasn't much statistical analysis I could do with this data.\n<br>\n\n3. Clustering: I decided to go with clustering as my machine learning algorithm of choice because I could cluster the neighborhoods and see similar ones. This would be helpful to the end user. I chose 10 cluster to build on in order to have enough choice for the user and because LA has a lot of neighborhoods. One thing I wanted to do was iterate the clustering process, however I wasn't able to figure out how to do that, and that resulted in quite uneven clusters that weren't very accurate in evenly distributing the neighborhoods. \n<br>\n\n4. Sorting Data for User: This was the part where I appended the clustering data and the neighborhood plus venue data into one dataframe. I then chose just the 1st most common venue column in each neighborhood to recommend the neighborhoods based on venue category. I created a new data frame with the index of venue categories so that the best neighborhoods for that service would be shown. I added the dataframe with the specific venue names and locations below, so that the user can see specific details if the want to. Finally, I created a dataframe for each cluster, to show similar neighborhoods based on venue categories. \n<br>"
        },
        {
            "cell_type": "markdown",
            "metadata": {},
            "source": "## Results \nResults section where you discuss the results.\n"
        },
        {
            "cell_type": "markdown",
            "metadata": {},
            "source": "The clustering results were as follows: \n- cluster 1: Construction & Landscaping\n- cluster 2: Food and Restaurants\n- cluster 3: Parks and Food\n- cluster 4: Basketball Court\n- cluster 5: Trails\n- cluster 6: Food Services\n- cluster 7: Airport\n- cluster 8: Home Service\n- cluster 9: Mexican Culture\n- cluster 10: Record Stores\n\n<br>\nThe overall result of the project was a good - I was able to accomplish what my objective was. However, the execution and some of the more complicated programming was not the best. For example, I wasn't able to iterate on the clustering algorithm and because of that, the clusters weren't the best fitted. Additionally, I wanted to make the end product interact with the user. But because I was working from Watson Studio and didn't know the special dash interface for this application, I wasn't able to program that. The user will have to go and look at the dataframe to get the information. I accomplished my original objective, which is good. "
        },
        {
            "cell_type": "markdown",
            "metadata": {},
            "source": "## Discussion\nDiscussion section where you discuss any observations you noted and any recommendations you can make based on the results.\n"
        },
        {
            "cell_type": "markdown",
            "metadata": {},
            "source": "I think this project can get even better if we add additional conditions such as neighborhood security score, and density of neighborhood. This can make the decision making process even smoother for the user"
        },
        {
            "cell_type": "markdown",
            "metadata": {},
            "source": "## Conclusion\nConclusion section where you conclude the report."
        },
        {
            "cell_type": "markdown",
            "metadata": {},
            "source": "To conclude, I think that a user - any person considering coming to Los Angeles for long or short period of time - can benefit from looking at this project to see which neighborhood best suits thier preferences. I had a great time creating this project and will continue to update and better the program."
        }
    ],
    "metadata": {
        "kernelspec": {
            "display_name": "Python 3.7",
            "language": "python",
            "name": "python3"
        },
        "language_info": {
            "codemirror_mode": {
                "name": "ipython",
                "version": 3
            },
            "file_extension": ".py",
            "mimetype": "text/x-python",
            "name": "python",
            "nbconvert_exporter": "python",
            "pygments_lexer": "ipython3",
            "version": "3.7.10"
        }
    },
    "nbformat": 4,
    "nbformat_minor": 1
}