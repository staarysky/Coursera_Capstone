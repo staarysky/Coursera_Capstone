{
    "cells": [
        {
            "cell_type": "markdown",
            "metadata": {
                "collapsed": true
            },
            "source": "# Introduction/Business Problem"
        },
        {
            "cell_type": "markdown",
            "metadata": {},
            "source": "### Los Angeles is the second largest city in the US by population and a major hub of the entertainment and finance industries. It is also one of the largest geographically spread cities and is known to have an unsual urban planning structure and not clear definitions of neighborhoods. With the city spreading and sprawling increasingly fast, how can a person moving to LA, like an aspiring actor or business person, figure out where to live in this complicated city? What if they want to live in a area with the most movie theaters, or restaurants, how can they choose which neighborhood to go to? To answer this question, I will be segmenting, clustering, and analyzing the neighborhoods of LA and figure out which neighborhoods are present, what they are known for, and what venue locations they have the most of.\n\n### This program can also work for tourists who are looking for a place to stay while visiting LA"
        },
        {
            "cell_type": "markdown",
            "metadata": {},
            "source": ""
        },
        {
            "cell_type": "markdown",
            "metadata": {},
            "source": "# Description of Data I will be using"
        },
        {
            "cell_type": "markdown",
            "metadata": {},
            "source": "### I will be using the geographical data of Los Angeles provided by USC's Neighborhood Data for Social Change . Here, I will find the boroughs and neighborhoods of LA and clean this data. Then I will collect the venue categories for each neighborhood from the FourSquare API. I will cluster and add the top venues categories for each neighborhood. Finally, I will sort the data to see which neighborhood or cluster will be the best for a certain venue category - so let's say that a person moving to LA really wants to live near movie theaters, they can see which neighborhoods will be the best for that. "
        },
        {
            "cell_type": "code",
            "execution_count": null,
            "metadata": {},
            "outputs": [],
            "source": ""
        }
    ],
    "metadata": {
        "kernelspec": {
            "display_name": "Python 3.7",
            "language": "python",
            "name": "python3"
        },
        "language_info": {
            "codemirror_mode": {
                "name": "ipython",
                "version": 3
            },
            "file_extension": ".py",
            "mimetype": "text/x-python",
            "name": "python",
            "nbconvert_exporter": "python",
            "pygments_lexer": "ipython3",
            "version": "3.7.10"
        }
    },
    "nbformat": 4,
    "nbformat_minor": 1
}